{
 "cells": [
  {
   "cell_type": "markdown",
   "id": "a7b48d26",
   "metadata": {},
   "source": [
    "<h1>Demonstration Notebook: Simulation of reflected and stopped Brownian motion in a wedge</h1>"
   ]
  },
  {
   "cell_type": "code",
   "execution_count": 1,
   "id": "3c51e6e5",
   "metadata": {},
   "outputs": [],
   "source": [
    "import numpy as np\n",
    "from simulationV3 import *"
   ]
  },
  {
   "cell_type": "markdown",
   "id": "6aacaeeb",
   "metadata": {},
   "source": [
    "We first simulate a Brownian motion which is stopped or reflected in a wedge.\n",
    "\n",
    "The object <tt>BrownianMotion</tt> has several methods; to apply a Monte Carlo simulation on one of these methods:\n",
    "\n",
    "<tt>BrownianMotion.Monte_Carlo(F_test, method, N, *args)</tt>\n",
    "\n",
    "where <tt>N</tt> is the number of Monte Carlo simulations and where <tt>*args</tt> are the arguments of the <tt>method</tt>. The different methods are:\n",
    "<ul>\n",
    "    <li><tt>stopped_BM(self, stopAtT = True, computeTau = True)</tt>: simulate the stopped Brownian motion; if <tt>stopAtT=False</tt>, then we take $T=\\infty$ and stop at $\\tau$ instead of $\\min(\\tau, T)$.</li>\n",
    "    <li><tt>metzler_stopped(self, computeTau = False, N_approx=25)</tt>: simulate the stopped Brownian motion according to Metzler's method.</li>\n",
    "    <li><tt>reflected_BM(self, approx = False, epsilon = 0., stopNbIter = False, nb_iter_MAX = 200)</tt>: simulate the reflected Brownian motion; <tt>approx</tt> is whether to use the approximation algorithm with parameter <tt>epsilon</tt>. If <tt>stopNbIter=True</tt>, then the algorithm is stopped after <tt>nb_iter_Max</tt> iterations, thus preventing infinite running time.</li>\n",
    "</ul>"
   ]
  },
  {
   "cell_type": "code",
   "execution_count": 2,
   "id": "03b4e3f2",
   "metadata": {},
   "outputs": [
    {
     "name": "stdout",
     "output_type": "stream",
     "text": [
      "Expectation is   3.4476 +-   0.0641 with simulation time   1.0971 and average number of iterations   0.0000\n",
      "Simulated variance is  53.4881\n",
      "Simulated average min(tau,T) is   0.0000 +-   0.0000\n",
      "\n",
      "Expectation is   3.4657 +-   0.0777 with simulation time   1.5580 and average number of iterations   1.4529\n",
      "Simulated variance is  78.5044\n",
      "Simulated average min(tau,T) is   0.0000 +-   0.0000\n",
      "\n",
      "Expectation is   3.3383 +-   0.1183 with simulation time   3.8167 and average number of iterations   0.0000\n",
      "Simulated variance is  36.4348\n",
      "Simulated average min(tau,T) is   0.7343 +-   0.0361\n",
      "\n",
      "Expectation is   3.3991 +-   0.1440 with simulation time   2.2683 and average number of iterations   1.4528\n",
      "Simulated variance is  53.9892\n",
      "Simulated average min(tau,T) is   0.6154 +-   0.0430\n",
      "\n",
      "Expectation is   3.0276 +-   0.0517 with simulation time   6.5220 and average number of iterations   1.3832\n",
      "Simulated variance is   6.9599\n",
      "Simulated average min(tau,T) is   0.3901 +-   0.0062\n",
      "\n",
      "Expectation is   4.2034 +-   0.6434 with simulation time  48.4218 and average number of iterations 3080.2000\n",
      "Simulated variance is  10.7765\n",
      "Simulated average min(tau,T) is   1.0000 +-   0.0000\n",
      "\n",
      "Expectation is   4.2359 +-   0.0704 with simulation time  24.7926 and average number of iterations   5.5294\n",
      "Simulated variance is  12.8952\n",
      "Simulated average min(tau,T) is   0.9867 +-   0.0016\n",
      "\n"
     ]
    }
   ],
   "source": [
    "# parameters\n",
    "alpha = 0.9\n",
    "r0 = 1.5\n",
    "theta0 = alpha/3.\n",
    "T = 1.\n",
    "\n",
    "def F_test(x):\n",
    "    return np.sum(x**2)\n",
    "\n",
    "BM = BrownianMotion(r0, theta0, T, alpha)\n",
    "\n",
    "# Simulate f(W_tau); both should give the same result\n",
    "# the last arguments are the arguments of the method called\n",
    "result = BM.Monte_Carlo(F_test, \"metzler_stopped\", 50000, False)\n",
    "result = BM.Monte_Carlo(F_test, \"stopped_BM\", 50000, False, False)\n",
    "\n",
    "# Simulate tau, use computeTau=True\n",
    "result = BM.Monte_Carlo(F_test, \"metzler_stopped\", 10000, True, 15)\n",
    "result = BM.Monte_Carlo(F_test, \"stopped_BM\", 10000, False)\n",
    "\n",
    "# Simulate f(W_(min(tau,T)))\n",
    "result = BM.Monte_Carlo(F_test, \"stopped_BM\", 10000)\n",
    "\n",
    "# Simulate the reflected Brownian motion\n",
    "# The first case is the exact algorithm, which has infinite mean running time\n",
    "# The second one is the approximation algorithm with epsilon=1e-2\n",
    "result = BM.Monte_Carlo(F_test, \"reflected_BM\", 100)\n",
    "result = BM.Monte_Carlo(F_test, \"reflected_BM\", 10000, True, 1e-2)"
   ]
  },
  {
   "cell_type": "markdown",
   "id": "5a8a620c",
   "metadata": {},
   "source": [
    "The results of the Monte Carlo simulation are given in a dictionary where\n",
    "<ul>\n",
    "    <li><tt>E1</tt> is the simulated expectation.</li>\n",
    "    <li><tt>interval</tt> is the 95% confidence interval.</li>\n",
    "    <li><tt>E_nb_iter</tt> is the average number of iterations.</li>\n",
    "    <li><tt>nb_iter_list</tt> is the list of the number of iterations for each Monte Carlo simulation.</li>\n",
    "    <li><tt>E_T_n</tt> is the average value of $\\min(\\tau, T)$ if $\\tau$ is computed; otherwise returns 0.</li>\n",
    "    <li><tt>interval_T_n</tt> is the 95% confidence interval for $\\min(\\tau, T)$.</li>\n",
    "</ul>"
   ]
  },
  {
   "cell_type": "markdown",
   "id": "5bd5a6e5",
   "metadata": {},
   "source": [
    "We now simulate a process which is stopped or reflected in a wedge. For now, only the case $\\sigma = I_2$ is available."
   ]
  },
  {
   "cell_type": "code",
   "execution_count": 3,
   "id": "f23c34af",
   "metadata": {},
   "outputs": [
    {
     "name": "stdout",
     "output_type": "stream",
     "text": [
      "Expectation is   2.8326 +-   0.1469 with simulation time  20.0309\n",
      "Simulated variance is   5.6179\n",
      "\n",
      "Expectation is   3.8841 +-   0.2016 with simulation time  52.1819\n",
      "Simulated variance is  10.5843\n",
      "\n"
     ]
    }
   ],
   "source": [
    "# parameters\n",
    "alpha = 0.9\n",
    "r0 = 1.5\n",
    "theta0 = alpha/3.\n",
    "T = 1.\n",
    "\n",
    "x0 = np.array([r0*np.cos(theta0), r0*np.sin(theta0)])\n",
    "mu = np.array([0.1, 0.2])\n",
    "a = np.array([0.7, 0.5])\n",
    "\n",
    "# drift\n",
    "def b(x):\n",
    "    return -mu*(x-a)\n",
    "\n",
    "def F_test(x):\n",
    "    return np.sum(x**2)\n",
    "\n",
    "# stopped process\n",
    "# the last argument is the number of steps in the Euler scheme\n",
    "process = StoppedProcess(x0, T, alpha, b, 100)\n",
    "result = process.Monte_Carlo(F_test, 1000)\n",
    "\n",
    "# reflected process\n",
    "process = ReflectedProcess(x0, T, alpha, b, 100, epsilon=1e-2)\n",
    "result = process.Monte_Carlo(F_test, 1000)"
   ]
  },
  {
   "cell_type": "markdown",
   "id": "756eb526",
   "metadata": {},
   "source": [
    "The results of <tt>Monte_Carlo</tt> are given in a dictionnary as before, however only <tt>E1</tt> and <tt>interval</tt> are given."
   ]
  },
  {
   "cell_type": "markdown",
   "id": "ca634bb7",
   "metadata": {},
   "source": [
    "We now check that if the drift $b \\equiv 0$ then both methods return the same results."
   ]
  },
  {
   "cell_type": "code",
   "execution_count": 4,
   "id": "a81a00ba",
   "metadata": {},
   "outputs": [
    {
     "name": "stdout",
     "output_type": "stream",
     "text": [
      "Expectation is   2.9546 +-   0.0491 with simulation time   6.7682 and average number of iterations   1.3845\n",
      "Simulated variance is   6.2712\n",
      "Simulated average min(tau,T) is   0.3874 +-   0.0062\n",
      "\n",
      "Expectation is   3.0666 +-   0.1623 with simulation time  20.2761\n",
      "Simulated variance is   6.8610\n",
      "\n",
      "Expectation is   4.2382 +-   0.1014 with simulation time  14.6793 and average number of iterations   5.6866\n",
      "Simulated variance is  13.3861\n",
      "Simulated average min(tau,T) is   0.9865 +-   0.0022\n",
      "\n",
      "Expectation is   4.2395 +-   0.2196 with simulation time  51.9240\n",
      "Simulated variance is  12.5585\n",
      "\n"
     ]
    }
   ],
   "source": [
    "def b(x):\n",
    "    return np.zeros(2)\n",
    "\n",
    "result = BM.Monte_Carlo(F_test, \"stopped_BM\", 10000)\n",
    "result = StoppedProcess(x0, T, alpha, b, 100).Monte_Carlo(F_test, 1000)\n",
    "\n",
    "result = BM.Monte_Carlo(F_test, \"reflected_BM\", 5000, True, 1e-2)\n",
    "result = ReflectedProcess(x0, T, alpha, b, 100, epsilon=1e-2).Monte_Carlo(F_test, 1000)"
   ]
  },
  {
   "cell_type": "code",
   "execution_count": null,
   "id": "0c301977",
   "metadata": {},
   "outputs": [],
   "source": []
  }
 ],
 "metadata": {
  "kernelspec": {
   "display_name": "Python 3 (ipykernel)",
   "language": "python",
   "name": "python3"
  },
  "language_info": {
   "codemirror_mode": {
    "name": "ipython",
    "version": 3
   },
   "file_extension": ".py",
   "mimetype": "text/x-python",
   "name": "python",
   "nbconvert_exporter": "python",
   "pygments_lexer": "ipython3",
   "version": "3.8.6"
  }
 },
 "nbformat": 4,
 "nbformat_minor": 5
}
